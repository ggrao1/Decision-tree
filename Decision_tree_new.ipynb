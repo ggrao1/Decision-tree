{
 "cells": [
  {
   "cell_type": "code",
   "execution_count": 8,
   "metadata": {
    "collapsed": true
   },
   "outputs": [],
   "source": [
    "def infoGain(P,N):\n",
    "    import math\n",
    "    return -P/(P+N)*math.log2(P/(P+N))-N/(P+N)*math.log2(N/(P+N))"
   ]
  },
  {
   "cell_type": "code",
   "execution_count": 9,
   "metadata": {
    "collapsed": true
   },
   "outputs": [],
   "source": [
    "def insertNode(tree,d,Node):\n",
    "    for k, v in tree.items():\n",
    "        if isinstance(v, dict):\n",
    "            tree[k] = insertNode(v, d, Node)\n",
    "    if d in tree:\n",
    "        if isinstance(tree[d], dict):\n",
    "            tree[d][Node] = 'None'\n",
    "        else:\n",
    "            tree[d] = {Node:'None'} \n",
    "    return tree"
   ]
  },
  {
   "cell_type": "code",
   "execution_count": 10,
   "metadata": {
    "collapsed": true
   },
   "outputs": [],
   "source": [
    "def insertConcept(tree,d,Node):\n",
    "    for k, v in tree.items():\n",
    "        if isinstance(v, dict):\n",
    "            tree[k] = insertConcept(v, d, Node)\n",
    "    if d in tree:\n",
    "        tree[d] = Node\n",
    "    return tree"
   ]
  },
  {
   "cell_type": "code",
   "execution_count": 11,
   "metadata": {
    "collapsed": true
   },
   "outputs": [],
   "source": [
    "def getNextData(data,Node,d):\n",
    "    iData = (data[Node] == d)\n",
    "    nD = data[iData]\n",
    "    nD = nD.drop(Node,axis=1)\n",
    "    return nD"
   ]
  },
  {
   "cell_type": "code",
   "execution_count": 12,
   "metadata": {
    "collapsed": true
   },
   "outputs": [],
   "source": [
    "def getNextNode(data,AttributeList,concept,conceptVals,tree,d):\n",
    "    Total=data.shape[0]\n",
    "    if Total == 0: #If Attibutes are empty, then return current value of tree\n",
    "        return tree\n",
    "    \n",
    "    countC={}\n",
    "    for cVal in conceptVals:   #If Example is positive then return positive and If negative then return negative\n",
    "        dataCC = data[data[concept] == cVal]   #Get data for specific concept\n",
    "        countC[cVal] = dataCC.shape[0]         #Get the count of data for specific concept\n",
    "\n",
    "        if countC[cVal] == 0 and cVal == 'No': #If all examples are Positive(Not Negative), return single node Positive\n",
    "            tree = insertConcept(tree,d,'Yes')\n",
    "            return tree\n",
    "        if countC[cVal] == 0 and cVal == 'Yes': #If all examples are Negative (Not Positive), return single node Negative\n",
    "            tree = insertConcept(tree,d,'No')\n",
    "            return tree\n",
    "    \n",
    "    ClassEntropy = infoGain(countC['Yes'],countC['No']) #Class Entropy for d\n",
    "    \n",
    "    Attr = {}         #Attribute dict holding list of possible values\n",
    "    for a in AttributeList:\n",
    "        Attr[a] = list(set(data[a]))\n",
    "        \n",
    "    AttrCount = {}    #Get the attribute values being positive and negative\n",
    "    TotalInfo = {}    #Inomation Gain temp dict Total for all attr\n",
    "    InfoGain = {}     #Inomation Gain temp dict Total for each attr\n",
    "    EntropyAttr = {}  #Attribute Entropy\n",
    "    for att in AttributeList:\n",
    "        for vals in Attr[att]:\n",
    "            for c in conceptVals:\n",
    "                iData = (data[att] == vals)      #Get data for specific attribute\n",
    "                cData = (data[concept] == c)     #Get data for specific concept\n",
    "                dataAtt = data[iData][cData]     #Get data for specific attribute and concept\n",
    "                AttrCount[c] = dataAtt.shape[0]  #Get the count of data for specific attribute and concept\n",
    "            TotalInfo[vals] = AttrCount['Yes'] + AttrCount['No'] #Total Attribute \n",
    "            if AttrCount['Yes'] == 0 or AttrCount['No'] == 0:\n",
    "                InfoGain[vals]=0\n",
    "            else:\n",
    "                InfoGain[vals] = infoGain(AttrCount['Yes'],AttrCount['No']) #Calculate InfoGain for each  attr\n",
    "            \n",
    "            if att not in EntropyAttr:          #Calculate Entropy for each attr\n",
    "                EntropyAttr[att] = ( TotalInfo[vals] / Total ) * InfoGain[vals] \n",
    "            else:\n",
    "                EntropyAttr[att] = EntropyAttr[att] + ( TotalInfo[vals] / Total ) * InfoGain[vals]\n",
    "    \n",
    "    Gain = {}\n",
    "    for g in EntropyAttr:\n",
    "        Gain[g] = ClassEntropy - EntropyAttr[g] #Calculate gain\n",
    "#     print(\"Gain : \",Gain)\n",
    "    Node = max(Gain,key=Gain.get)               #Get root node\n",
    "#     print(\"Next root : \",Node)\n",
    "    tree = insertNode(tree,d,Node)\n",
    "    for nD in Attr[Node]:\n",
    "        tree = insertNode(tree,Node,nD) #Insert \n",
    "        newData = getNextData(data,Node,nD)\n",
    "        AttributeList=list(newData)[:-1]\n",
    "        tree = getNextNode(newData,AttributeList,concept,conceptVals,tree,nD)\n",
    "    return tree"
   ]
  },
  {
   "cell_type": "code",
   "execution_count": 13,
   "metadata": {
    "collapsed": true
   },
   "outputs": [],
   "source": [
    "def main():\n",
    "    import pandas as pd\n",
    "    from pandas import DataFrame \n",
    "    data = DataFrame.from_csv('software hardware.csv')    #Read CSV\n",
    "    AttributeList=list(data)[:-1]            #Get Attribute List\n",
    "    concept=str(list(data)[-1])              #Get concept list\n",
    "    conceptVals = list(set(data[concept]))   #Get Concept values\n",
    "    tree = getNextNode(data,AttributeList,concept,conceptVals,{'root':'None'},'root')\n",
    "    print(tree)"
   ]
  },
  {
   "cell_type": "code",
   "execution_count": 14,
   "metadata": {
    "scrolled": true
   },
   "outputs": [
    {
     "name": "stdout",
     "output_type": "stream",
     "text": [
      "{'root': {'Age': {'Mid': {'Competition': {'No': 'Yes', 'Yes': 'No'}}, 'Old': 'No', 'New': 'Yes'}}}\n"
     ]
    },
    {
     "name": "stderr",
     "output_type": "stream",
     "text": [
      "C:\\Users\\Lenovo\\Anaconda3\\lib\\site-packages\\ipykernel_launcher.py:33: UserWarning: Boolean Series key will be reindexed to match DataFrame index.\n"
     ]
    }
   ],
   "source": [
    "main()"
   ]
  },
  {
   "cell_type": "code",
   "execution_count": null,
   "metadata": {
    "collapsed": true
   },
   "outputs": [],
   "source": []
  }
 ],
 "metadata": {
  "kernelspec": {
   "display_name": "Python 3",
   "language": "python",
   "name": "python3"
  },
  "language_info": {
   "codemirror_mode": {
    "name": "ipython",
    "version": 3
   },
   "file_extension": ".py",
   "mimetype": "text/x-python",
   "name": "python",
   "nbconvert_exporter": "python",
   "pygments_lexer": "ipython3",
   "version": "3.6.3"
  }
 },
 "nbformat": 4,
 "nbformat_minor": 2
}
