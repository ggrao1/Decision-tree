{
 "cells": [
  {
   "cell_type": "code",
   "execution_count": 1,
   "metadata": {
    "ExecuteTime": {
     "end_time": "2019-06-23T11:37:55.849330Z",
     "start_time": "2019-06-23T11:37:55.843774Z"
    }
   },
   "outputs": [],
   "source": [
    "def infoGain(P, N): #Claculate Information gain or Class entropy\n",
    "    import math\n",
    "    return -P / (P + N) * math.log2(P / ( P + N)) - N / (P + N) * math.log2(N / (P + N))"
   ]
  },
  {
   "cell_type": "code",
   "execution_count": 2,
   "metadata": {
    "ExecuteTime": {
     "end_time": "2019-06-23T11:37:56.397499Z",
     "start_time": "2019-06-23T11:37:56.389331Z"
    }
   },
   "outputs": [],
   "source": [
    "def insertNode(tree, addTo, Node):\n",
    "    for k, v in tree.items(): #Traversal of tree\n",
    "        if isinstance(v, dict):\n",
    "            tree[k] = insertNode(v, addTo, Node)\n",
    "    if addTo in tree:    #If d is found then add Node\n",
    "        if isinstance(tree[addTo], dict):\n",
    "            tree[addTo][Node] = 'None'\n",
    "        else:\n",
    "            tree[addTo] = {Node:'None'} \n",
    "    return tree"
   ]
  },
  {
   "cell_type": "code",
   "execution_count": 3,
   "metadata": {
    "ExecuteTime": {
     "end_time": "2019-06-23T11:37:56.962360Z",
     "start_time": "2019-06-23T11:37:56.956702Z"
    }
   },
   "outputs": [],
   "source": [
    "def insertConcept(tree, addTo, Node):\n",
    "    for k, v in tree.items(): #Traversal of tree\n",
    "        if isinstance(v, dict):\n",
    "            tree[k] = insertConcept(v, addTo, Node)\n",
    "    if addTo in tree:    #If d is found then add Node\n",
    "        tree[addTo] = Node\n",
    "    return tree"
   ]
  },
  {
   "cell_type": "code",
   "execution_count": 4,
   "metadata": {
    "ExecuteTime": {
     "end_time": "2019-06-23T11:37:57.603849Z",
     "start_time": "2019-06-23T11:37:57.557701Z"
    }
   },
   "outputs": [],
   "source": [
    "def getNextNode(data, AttributeList, concept, conceptVals, tree, addTo):\n",
    "    Total = data.shape[0]\n",
    "    if Total == 0: #If Attibutes are empty, then return current value of tree\n",
    "        return tree\n",
    "    \n",
    "    countC = {}\n",
    "    for cVal in conceptVals:   #If Example is positive then return positive and If negative then return negative\n",
    "        dataCC = data[data[concept] == cVal]   #Get data for specific concept\n",
    "        countC[cVal] = dataCC.shape[0]         #Get the count of data for specific concept\n",
    "\n",
    "    if countC[conceptVals[0]] == 0: #If all examples are Positive(Not Negative), return single node Positive\n",
    "        tree = insertConcept(tree, addTo, conceptVals[1])\n",
    "        return tree\n",
    "    if countC[conceptVals[1]] == 0: #If all examples are Negative (Not Positive), return single node Negative\n",
    "        tree = insertConcept(tree, addTo, conceptVals[0])\n",
    "        return tree\n",
    "    \n",
    "    ClassEntropy = infoGain(countC[conceptVals[0]],countC[conceptVals[1]]) #Calculate Class Entropy for data\n",
    "    \n",
    "    Attr = {}         #Attribute dict holding list of possible values\n",
    "    for a in AttributeList:\n",
    "        Attr[a] = list(set(data[a]))\n",
    "        \n",
    "    AttrCount = {}    #Get the attribute values being positive and negative\n",
    "    EntropyAttr = {}  #Attribute Entropy\n",
    "    for att in Attr:\n",
    "        for vals in Attr [att]:\n",
    "            for c in conceptVals:\n",
    "                iData = data[data[att] == vals]       #Get data for specific attribute\n",
    "                dataAtt = iData[iData[concept] == c]  #Get data for specific attribute and concept  \n",
    "                AttrCount[c] = dataAtt.shape[0]  #Get the count of data for specific attribute and concept\n",
    "            TotalInfo = AttrCount[conceptVals[0]] + AttrCount[conceptVals[1]] #Total Attribute \n",
    "            if AttrCount[conceptVals[0]] == 0 or AttrCount[conceptVals[1]] == 0:\n",
    "                InfoGain=0\n",
    "            else:\n",
    "                InfoGain = infoGain(AttrCount[conceptVals[0]], AttrCount[conceptVals[1]]) #Calculate InfoGain for each  attr\n",
    "            \n",
    "            if att not in EntropyAttr:          #Calculate Entropy for each attr\n",
    "                EntropyAttr[att] = ( TotalInfo / Total ) * InfoGain\n",
    "            else:\n",
    "                EntropyAttr[att] = EntropyAttr[att] + ( TotalInfo / Total ) * InfoGain\n",
    "    \n",
    "    Gain = {}\n",
    "    for g in EntropyAttr:\n",
    "        Gain[g] = ClassEntropy - EntropyAttr[g] #Calculate gain\n",
    "\n",
    "    Node = max(Gain, key = Gain.get)     #Get root node\n",
    "\n",
    "    tree = insertNode(tree, addTo, Node) #Add Node to tree\n",
    "    for nD in Attr[Node]:\n",
    "        tree = insertNode(tree, Node, nD)    #Insert Attribute value to tree\n",
    "        newData = data[data[Node] == nD].drop(Node, axis = 1)#Get new data with Attribute value nD and removing rows with column value Node\n",
    "        AttributeList=list(newData)[:-1]   #New Attribute List\n",
    "        tree = getNextNode(newData, AttributeList, concept, conceptVals, tree, nD) #Call the function recursively\n",
    "    return tree"
   ]
  },
  {
   "cell_type": "code",
   "execution_count": 5,
   "metadata": {
    "ExecuteTime": {
     "end_time": "2019-06-23T11:37:58.532591Z",
     "start_time": "2019-06-23T11:37:58.209762Z"
    }
   },
   "outputs": [],
   "source": [
    "import pandas as pd\n",
    "from pandas import DataFrame \n",
    "def main():\n",
    "    data = DataFrame.from_csv('./play.csv')    #Read CSV\n",
    "    AttributeList = list(data)[:-1]            #Get Attribute List\n",
    "    concept = str(list(data)[-1])              #Get concept list\n",
    "    conceptVals = list(set(data[concept]))   #Get Concept values\n",
    "    tree = getNextNode(data, AttributeList, concept, conceptVals, {'root':'None'}, 'root')\n",
    "    return tree  #Call recursive function with initial value of tree and Node as root"
   ]
  },
  {
   "cell_type": "code",
   "execution_count": 10,
   "metadata": {
    "ExecuteTime": {
     "end_time": "2019-06-23T11:39:41.430788Z",
     "start_time": "2019-06-23T11:39:41.299075Z"
    },
    "scrolled": true
   },
   "outputs": [
    {
     "name": "stderr",
     "output_type": "stream",
     "text": [
      "/home/ggrao/anaconda3/lib/python3.7/site-packages/ipykernel_launcher.py:4: FutureWarning: from_csv is deprecated. Please use read_csv(...) instead. Note that some of the default arguments are different, so please refer to the documentation for from_csv when changing your function calls\n",
      "  after removing the cwd from sys.path.\n"
     ]
    }
   ],
   "source": [
    "tree = main()['root']"
   ]
  },
  {
   "cell_type": "code",
   "execution_count": 27,
   "metadata": {
    "ExecuteTime": {
     "end_time": "2019-06-23T11:39:58.342746Z",
     "start_time": "2019-06-23T11:39:58.324631Z"
    }
   },
   "outputs": [
    {
     "name": "stderr",
     "output_type": "stream",
     "text": [
      "/home/ggrao/anaconda3/lib/python3.7/site-packages/ipykernel_launcher.py:1: FutureWarning: from_csv is deprecated. Please use read_csv(...) instead. Note that some of the default arguments are different, so please refer to the documentation for from_csv when changing your function calls\n",
      "  \"\"\"Entry point for launching an IPython kernel.\n"
     ]
    }
   ],
   "source": [
    "data = DataFrame.from_csv('play.csv')\n",
    "def test(tree, d):\n",
    "    for k in tree:\n",
    "        for v in tree[k]:\n",
    "            if (d[k] == v and isinstance(tree[k][v], dict)):\n",
    "                test(tree[k][v],d)\n",
    "            elif (d[k] == v):\n",
    "                print(\"Classification: \"+tree[k][v])"
   ]
  },
  {
   "cell_type": "code",
   "execution_count": 28,
   "metadata": {
    "ExecuteTime": {
     "end_time": "2019-06-23T11:39:59.125659Z",
     "start_time": "2019-06-23T11:39:59.115202Z"
    }
   },
   "outputs": [
    {
     "name": "stdout",
     "output_type": "stream",
     "text": [
      "Classification: No\n"
     ]
    }
   ],
   "source": [
    "test(tree, data.loc[0,:])"
   ]
  },
  {
   "cell_type": "code",
   "execution_count": null,
   "metadata": {},
   "outputs": [],
   "source": []
  }
 ],
 "metadata": {
  "kernelspec": {
   "display_name": "Python 3",
   "language": "python",
   "name": "python3"
  },
  "language_info": {
   "codemirror_mode": {
    "name": "ipython",
    "version": 3
   },
   "file_extension": ".py",
   "mimetype": "text/x-python",
   "name": "python",
   "nbconvert_exporter": "python",
   "pygments_lexer": "ipython3",
   "version": "3.7.1"
  },
  "latex_envs": {
   "LaTeX_envs_menu_present": true,
   "autoclose": false,
   "autocomplete": true,
   "bibliofile": "biblio.bib",
   "cite_by": "apalike",
   "current_citInitial": 1,
   "eqLabelWithNumbers": true,
   "eqNumInitial": 1,
   "hotkeys": {
    "equation": "Ctrl-E",
    "itemize": "Ctrl-I"
   },
   "labels_anchors": false,
   "latex_user_defs": false,
   "report_style_numbering": false,
   "user_envs_cfg": false
  },
  "toc": {
   "base_numbering": 1,
   "nav_menu": {},
   "number_sections": true,
   "sideBar": true,
   "skip_h1_title": false,
   "title_cell": "Table of Contents",
   "title_sidebar": "Contents",
   "toc_cell": false,
   "toc_position": {},
   "toc_section_display": true,
   "toc_window_display": false
  },
  "varInspector": {
   "cols": {
    "lenName": 16,
    "lenType": 16,
    "lenVar": 40
   },
   "kernels_config": {
    "python": {
     "delete_cmd_postfix": "",
     "delete_cmd_prefix": "del ",
     "library": "var_list.py",
     "varRefreshCmd": "print(var_dic_list())"
    },
    "r": {
     "delete_cmd_postfix": ") ",
     "delete_cmd_prefix": "rm(",
     "library": "var_list.r",
     "varRefreshCmd": "cat(var_dic_list()) "
    }
   },
   "types_to_exclude": [
    "module",
    "function",
    "builtin_function_or_method",
    "instance",
    "_Feature"
   ],
   "window_display": false
  }
 },
 "nbformat": 4,
 "nbformat_minor": 2
}
