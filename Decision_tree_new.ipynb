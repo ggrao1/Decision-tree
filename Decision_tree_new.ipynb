{
 "cells": [
  {
   "cell_type": "code",
   "execution_count": 247,
   "metadata": {
    "collapsed": true
   },
   "outputs": [],
   "source": [
    "def infoGain(P,N):\n",
    "    import math\n",
    "    return -P/(P+N)*math.log2(P/(P+N))-N/(P+N)*math.log2(N/(P+N))"
   ]
  },
  {
   "cell_type": "code",
   "execution_count": 248,
   "metadata": {
    "collapsed": true
   },
   "outputs": [],
   "source": [
    "def countConcept(data,attr,val):\n",
    "    from collections import Counter\n",
    "    cnt=Counter(x for x in data[attr])\n",
    "    return cnt[val]"
   ]
  },
  {
   "cell_type": "code",
   "execution_count": 249,
   "metadata": {
    "collapsed": true
   },
   "outputs": [],
   "source": [
    "def countAttr(data,val,attr,concept,cVal):\n",
    "    count={}\n",
    "    C = data[concept]\n",
    "    A = data[val]\n",
    "    for a in data.index:\n",
    "        for v in attr:\n",
    "            if v not in count:\n",
    "                count[v] = 0\n",
    "            if(A[a]==v and C[a]==cVal):\n",
    "                if v not in count:\n",
    "                    count[v]=1\n",
    "                else:\n",
    "                    count[v]=count[v]+1\n",
    "    return count"
   ]
  },
  {
   "cell_type": "code",
   "execution_count": 250,
   "metadata": {},
   "outputs": [],
   "source": [
    "def insertNode(tree,d,Node):\n",
    "    for k, v in tree.items():\n",
    "        if isinstance(v, dict):\n",
    "            tree[k] = insertNode(v, d, Node)\n",
    "    if d in tree:\n",
    "        if isinstance(tree[d], dict):\n",
    "            tree[d][Node] = 'None' #Problem Here\n",
    "        else:\n",
    "            tree[d] = {Node:'None'} \n",
    "    return tree"
   ]
  },
  {
   "cell_type": "code",
   "execution_count": 251,
   "metadata": {
    "collapsed": true
   },
   "outputs": [],
   "source": [
    "def insertConcept(tree,d,Node):\n",
    "    for k, v in tree.items():\n",
    "        if isinstance(v, dict):\n",
    "            tree[k] = insertConcept(v, d, Node)\n",
    "    if d in tree:\n",
    "        tree[d] = Node\n",
    "    return tree"
   ]
  },
  {
   "cell_type": "code",
   "execution_count": 252,
   "metadata": {
    "collapsed": true
   },
   "outputs": [],
   "source": [
    "def getNextData(data,Node,d):\n",
    "    iData = (data[Node] == d)\n",
    "    nD = data[iData]\n",
    "    nD = nD.drop(Node,axis=1)\n",
    "    return nD"
   ]
  },
  {
   "cell_type": "code",
   "execution_count": 256,
   "metadata": {
    "collapsed": true
   },
   "outputs": [],
   "source": [
    "def getNextNode(data,AttributeList,concept,conceptVals,tree,d):\n",
    "    Total=data.shape[0]\n",
    "    if Total == 0: #If no Attibute then return tree\n",
    "        return tree\n",
    "    \n",
    "    countC={}\n",
    "    for cVal in conceptVals: #If Example is positive then return positive and If negative then return negative\n",
    "        countC[cVal] = countConcept(data,concept,cVal)\n",
    "        if countC[cVal] == 0 and cVal == 'No':\n",
    "            tree = insertConcept(tree,d,'Yes')\n",
    "            return tree\n",
    "        if countC[cVal] == 0 and cVal == 'Yes':\n",
    "            tree = insertConcept(tree,d,'No')\n",
    "            return tree\n",
    "    \n",
    "    ClassEntropy = infoGain(countC['Yes'],countC['No']) #Class Entropy for d\n",
    "    \n",
    "    Attr = {}#Attribute dict holding list of possible values\n",
    "    for a in AttributeList:\n",
    "        Attr[a] = list(set(data[a]))\n",
    "\n",
    "    AttrCount = {} #Get the attribute values being positive and negative\n",
    "    for val in Attr:\n",
    "        AttrCount[val] = {}\n",
    "        for cVal in conceptVals:\n",
    "            AttrCount[val][cVal] = countAttr(data,val,Attr[val],concept,cVal)\n",
    "\n",
    "    EntropyAttr = {} #Calculate Attribute entropy\n",
    "    AttPosNeg = {}\n",
    "    for att in AttrCount:\n",
    "        InfoGain = {}\n",
    "        ap = {}\n",
    "        an = {}\n",
    "        for c in conceptVals:\n",
    "            for val in AttrCount[att][c]:\n",
    "                if c == 'No':\n",
    "                    an[val] = AttrCount[att][c][val]\n",
    "                if c == 'Yes':\n",
    "                    ap[val] = AttrCount[att][c][val]\n",
    "        AttPosNeg[att]={}\n",
    "        TotalInfo = {}\n",
    "        AttPosNeg[att] = {'Yes':ap,'No':an}\n",
    "        for val in AttrCount[att][c]:\n",
    "            TotalInfo[val] = ap[val]+an[val]\n",
    "            if ap[val]==0 or an[val]==0:\n",
    "                InfoGain[val]=0\n",
    "            else:\n",
    "                InfoGain[val] = infoGain(ap[val],an[val])\n",
    "#             print(\"Information Gain : \",InfoGain)\n",
    "        for val in InfoGain:\n",
    "            if att not in EntropyAttr:\n",
    "                EntropyAttr[att] = ( TotalInfo[val] / Total ) * InfoGain[val]\n",
    "            else:\n",
    "                EntropyAttr[att] = EntropyAttr[att] + ( TotalInfo[val] / Total ) * InfoGain[val]\n",
    "#         print(\"Attribute Entropy : \",EntropyAttr)\n",
    "    Gain = {}\n",
    "    for g in EntropyAttr:\n",
    "        if g not in Gain:\n",
    "            Gain[g] = ClassEntropy - EntropyAttr[g]\n",
    "#         print(\"Gain : \",Gain)\n",
    "    Node = max(Gain,key=Gain.get)\n",
    "#     print(\"Next root : \",Node)\n",
    "    tree = insertNode(tree,d,Node)\n",
    "    for nD in Attr[Node]:\n",
    "        tree = insertNode(tree,Node,nD)\n",
    "        newData = getNextData(data,Node,nD)\n",
    "#         print(nD,newData)\n",
    "        AttributeList=list(newData)[:-1]\n",
    "        tree = getNextNode(newData,AttributeList,concept,conceptVals,tree,nD)\n",
    "#         print(tree)  \n",
    "    return tree"
   ]
  },
  {
   "cell_type": "code",
   "execution_count": 259,
   "metadata": {},
   "outputs": [],
   "source": [
    "def main():\n",
    "    import pandas as pd\n",
    "    from pandas import DataFrame \n",
    "    from collections import Counter\n",
    "    data = DataFrame.from_csv('play.csv')\n",
    "    AttributeList=list(data)[:-1]\n",
    "    concept=str(list(data)[-1])\n",
    "    conceptVals = list(set(data[concept]))\n",
    "    tree = getNextNode(data,AttributeList,concept,conceptVals,{'root':'None'},'root')\n",
    "    print(tree)"
   ]
  },
  {
   "cell_type": "code",
   "execution_count": 260,
   "metadata": {},
   "outputs": [
    {
     "name": "stdout",
     "output_type": "stream",
     "text": [
      "{'root': {'Outlook': {'Overcast': 'Yes', 'Rain': {'Wind': {'Strong': 'No', 'Weak': 'Yes'}}, 'Sunny': {'Humidity': {'Normal': 'Yes', 'High': 'No'}}}}}\n"
     ]
    }
   ],
   "source": [
    "main()"
   ]
  },
  {
   "cell_type": "code",
   "execution_count": null,
   "metadata": {
    "collapsed": true
   },
   "outputs": [],
   "source": []
  },
  {
   "cell_type": "code",
   "execution_count": null,
   "metadata": {
    "collapsed": true
   },
   "outputs": [],
   "source": []
  }
 ],
 "metadata": {
  "kernelspec": {
   "display_name": "Python 3",
   "language": "python",
   "name": "python3"
  },
  "language_info": {
   "codemirror_mode": {
    "name": "ipython",
    "version": 3
   },
   "file_extension": ".py",
   "mimetype": "text/x-python",
   "name": "python",
   "nbconvert_exporter": "python",
   "pygments_lexer": "ipython3",
   "version": "3.6.3"
  }
 },
 "nbformat": 4,
 "nbformat_minor": 2
}
