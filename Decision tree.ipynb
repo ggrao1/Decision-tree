{
 "cells": [
  {
   "cell_type": "code",
   "execution_count": 88,
   "metadata": {
    "collapsed": true
   },
   "outputs": [],
   "source": [
    "def infoGain(P,N):\n",
    "    import math\n",
    "    return -P/(P+N)*math.log2(P/(P+N))-N/(P+N)*math.log2(N/(P+N))"
   ]
  },
  {
   "cell_type": "code",
   "execution_count": 89,
   "metadata": {
    "collapsed": true
   },
   "outputs": [],
   "source": [
    "def getpath(nested_dict, value, prepath=0):\n",
    "    for k, v in nested_dict.items():\n",
    "        path = prepath\n",
    "        if v == value: \n",
    "            return path+1\n",
    "        elif hasattr(v, 'items'): \n",
    "            p = getpath(v, value, path) \n",
    "            if p is not None:\n",
    "                return p"
   ]
  },
  {
   "cell_type": "code",
   "execution_count": 90,
   "metadata": {
    "collapsed": true
   },
   "outputs": [],
   "source": [
    "def finditem(obj, key):\n",
    "    if key in obj: return key\n",
    "    for k, v in obj.items():\n",
    "        if isinstance(v,dict):\n",
    "            item = _finditem(v, key)\n",
    "            if item is not None:\n",
    "                return item"
   ]
  },
  {
   "cell_type": "code",
   "execution_count": 110,
   "metadata": {},
   "outputs": [],
   "source": [
    "def insertNode(tree,Node,AttPosNeg,d):\n",
    "    for k, v in tree.items():\n",
    "        if k == d:\n",
    "            NV = {}\n",
    "            for i in AttPosNeg:\n",
    "                for j in AttPosNeg[i]:\n",
    "                    NV[j]='None'\n",
    "                    if AttPosNeg[i][j] == 0:\n",
    "                        NV[j]='No'\n",
    "                        if AttPosNeg[i][j] != 0:\n",
    "                            break\n",
    "                    if AttPosNeg[i][j] == 0:\n",
    "                        NV[j]='Yes'\n",
    "                        break\n",
    "            tree[k]={Node:NV}\n",
    "        elif hasattr(v, 'items'):\n",
    "            p = insertNode(v, Node,AttPosNeg,d)\n",
    "            if p is 'None':\n",
    "                return p\n",
    "    return tree"
   ]
  },
  {
   "cell_type": "code",
   "execution_count": 101,
   "metadata": {
    "collapsed": true
   },
   "outputs": [],
   "source": [
    "def countConcept(data,attr,val):\n",
    "    from collections import Counter\n",
    "    cnt=Counter(x for x in data[attr])\n",
    "    return cnt[val]"
   ]
  },
  {
   "cell_type": "code",
   "execution_count": 102,
   "metadata": {
    "collapsed": true
   },
   "outputs": [],
   "source": [
    "def countAttr(data,attr,val,concept,cVal):\n",
    "    count={}\n",
    "    C = data[concept]\n",
    "    A = data[attr]\n",
    "    for a in data.index:\n",
    "        for v in val:\n",
    "            if v not in count:\n",
    "                count[v] = 0\n",
    "            if(A[a]==v and C[a]==cVal):\n",
    "                if v not in count:\n",
    "                    count[v]=1\n",
    "                else:\n",
    "                    count[v]=count[v]+1\n",
    "    return count"
   ]
  },
  {
   "cell_type": "code",
   "execution_count": 103,
   "metadata": {
    "collapsed": true
   },
   "outputs": [],
   "source": [
    "def getNextData(data,Node,d):\n",
    "    iData = (data[Node] == d)\n",
    "    nD = data[iData]\n",
    "    nD = nD.drop(Node,axis=1)\n",
    "    return nD"
   ]
  },
  {
   "cell_type": "code",
   "execution_count": 107,
   "metadata": {
    "collapsed": true
   },
   "outputs": [],
   "source": [
    "def getTree(data,AttributeList,concept,tree,d):\n",
    "    flag = True\n",
    "    Attr = {}\n",
    "    Total=data.shape[0]\n",
    "    for a in AttributeList:\n",
    "        Attr[a] = list(set(data[a]))\n",
    " \n",
    "    conceptVals = list(set(data[concept]))\n",
    "    AttrCount = {}\n",
    "    countC={}\n",
    "    \n",
    "    pathToNone = getpath(tree,'None')\n",
    "\n",
    "    if(pathToNone>0):\n",
    "        for val in Attr:\n",
    "            AttrCount[val] = {}\n",
    "            for cVal in conceptVals:\n",
    "                countC[cVal] = 0\n",
    "                countC[cVal] = countConcept(data,concept,cVal)\n",
    "            for cVal in conceptVals:\n",
    "                AttrCount[val][cVal] = countAttr(data,val,Attr[val],concept,cVal)\n",
    "#         print(AttrCount)\n",
    "        print(countC)\n",
    "        EntropyAttr = {}\n",
    "        AttPosNeg = {}\n",
    "        ClassEntropy = infoGain(countC['Yes'],countC['No'])\n",
    "#         print(\"Class Entropy : \",ClassEntropy)\n",
    "        for att in AttrCount:\n",
    "            InfoGain = {}\n",
    "            ap = {}\n",
    "            an = {}\n",
    "            for c in conceptVals:\n",
    "                for val in AttrCount[att][c]:\n",
    "                    if c == 'No':\n",
    "                        an[val] = AttrCount[att][c][val]\n",
    "                    if c == 'Yes':\n",
    "                        ap[val] = AttrCount[att][c][val]\n",
    "            AttPosNeg[att]={}\n",
    "            TotalInfo = {}\n",
    "            AttPosNeg[att] = {'Yes':ap,'No':an}\n",
    "            for val in AttrCount[att][c]:\n",
    "                TotalInfo[val] = ap[val]+an[val]\n",
    "                if ap[val]==0 or an[val]==0:\n",
    "                    InfoGain[val]=0\n",
    "                else:\n",
    "                    InfoGain[val] = infoGain(ap[val],an[val])\n",
    "#             print(\"Information Gain : \",InfoGain)\n",
    "            for val in InfoGain:\n",
    "                if att not in EntropyAttr:\n",
    "                    EntropyAttr[att] = ( TotalInfo[val] / Total ) * InfoGain[val]\n",
    "                else:\n",
    "                    EntropyAttr[att] = EntropyAttr[att] + ( TotalInfo[val] / Total ) * InfoGain[val]\n",
    "#         print(\"Attribute Entropy : \",EntropyAttr)\n",
    "        Gain = {}\n",
    "        for g in EntropyAttr:\n",
    "            if g not in Gain:\n",
    "                Gain[g] = ClassEntropy - EntropyAttr[g]\n",
    "#         print(\"Gain : \",Gain)\n",
    "        Node = max(Gain,key=Gain.get)\n",
    "        print(\"Next root : \",Node)\n",
    "        tree = insertNode(tree,Node,AttPosNeg[Node],d)\n",
    "        print(tree)\n",
    "        return Node,tree\n",
    "    else:\n",
    "        return None,tree"
   ]
  },
  {
   "cell_type": "code",
   "execution_count": 114,
   "metadata": {
    "collapsed": true
   },
   "outputs": [],
   "source": [
    "def main():\n",
    "    import pandas as pd\n",
    "    from pandas import DataFrame \n",
    "    from collections import Counter\n",
    "    data = DataFrame.from_csv('play.csv')\n",
    "    AttributeList=list(data)[:-1]\n",
    "    num_of_attributes=len(AttributeList)\n",
    "    concept=str(list(data)[-1])\n",
    "    Node,tree = getTree(data,AttributeList,concept,{'root':'None'},'root')\n",
    "    nDL = list(set(findItemsList(tree,'None')))\n",
    "#     print(nDL)\n",
    "    for d in nDL:\n",
    "        newData = getNextData(data,Node,d)\n",
    "        print(newData)\n",
    "        AttributeList=list(newData)[:-1]\n",
    "        Node,tree = getTree(newData,AttributeList,concept,tree,d)"
   ]
  },
  {
   "cell_type": "code",
   "execution_count": 115,
   "metadata": {
    "scrolled": false
   },
   "outputs": [
    {
     "name": "stdout",
     "output_type": "stream",
     "text": [
      "{'Yes': 9, 'No': 5}\n",
      "Next root :  Outlook\n",
      "{'root': {'Outlook': {'Overcast': 'Yes', 'Rain': 'None', 'Sunny': 'None'}}}\n",
      "     Temperature Humidity    Wind PlayTennis\n",
      "slno                                        \n",
      "3           Mild     High    Weak        Yes\n",
      "4           Cool   Normal    Weak        Yes\n",
      "5           Cool   Normal  Strong         No\n",
      "9           Mild   Normal    Weak        Yes\n",
      "13          Mild     High  Strong         No\n",
      "{'Yes': 3, 'No': 2}\n",
      "Next root :  Wind\n",
      "{'root': {'Outlook': {'Overcast': 'Yes', 'Rain': {'Wind': {'Strong': 'None', 'Weak': 'Yes'}}, 'Sunny': 'None'}}}\n",
      "Empty DataFrame\n",
      "Columns: [Outlook, Temperature, Humidity, PlayTennis]\n",
      "Index: []\n",
      "{}\n"
     ]
    },
    {
     "ename": "KeyError",
     "evalue": "'Yes'",
     "output_type": "error",
     "traceback": [
      "\u001b[1;31m---------------------------------------------------------------------------\u001b[0m",
      "\u001b[1;31mKeyError\u001b[0m                                  Traceback (most recent call last)",
      "\u001b[1;32m<ipython-input-115-58ca95c5b364>\u001b[0m in \u001b[0;36m<module>\u001b[1;34m()\u001b[0m\n\u001b[1;32m----> 1\u001b[1;33m \u001b[0mmain\u001b[0m\u001b[1;33m(\u001b[0m\u001b[1;33m)\u001b[0m\u001b[1;33m\u001b[0m\u001b[0m\n\u001b[0m",
      "\u001b[1;32m<ipython-input-114-81672dc6d8a6>\u001b[0m in \u001b[0;36mmain\u001b[1;34m()\u001b[0m\n\u001b[0;32m     14\u001b[0m         \u001b[0mprint\u001b[0m\u001b[1;33m(\u001b[0m\u001b[0mnewData\u001b[0m\u001b[1;33m)\u001b[0m\u001b[1;33m\u001b[0m\u001b[0m\n\u001b[0;32m     15\u001b[0m         \u001b[0mAttributeList\u001b[0m\u001b[1;33m=\u001b[0m\u001b[0mlist\u001b[0m\u001b[1;33m(\u001b[0m\u001b[0mnewData\u001b[0m\u001b[1;33m)\u001b[0m\u001b[1;33m[\u001b[0m\u001b[1;33m:\u001b[0m\u001b[1;33m-\u001b[0m\u001b[1;36m1\u001b[0m\u001b[1;33m]\u001b[0m\u001b[1;33m\u001b[0m\u001b[0m\n\u001b[1;32m---> 16\u001b[1;33m         \u001b[0mNode\u001b[0m\u001b[1;33m,\u001b[0m\u001b[0mtree\u001b[0m \u001b[1;33m=\u001b[0m \u001b[0mgetTree\u001b[0m\u001b[1;33m(\u001b[0m\u001b[0mnewData\u001b[0m\u001b[1;33m,\u001b[0m\u001b[0mAttributeList\u001b[0m\u001b[1;33m,\u001b[0m\u001b[0mconcept\u001b[0m\u001b[1;33m,\u001b[0m\u001b[0mtree\u001b[0m\u001b[1;33m,\u001b[0m\u001b[0md\u001b[0m\u001b[1;33m)\u001b[0m\u001b[1;33m\u001b[0m\u001b[0m\n\u001b[0m",
      "\u001b[1;32m<ipython-input-107-3929399d1228>\u001b[0m in \u001b[0;36mgetTree\u001b[1;34m(data, AttributeList, concept, tree, d)\u001b[0m\n\u001b[0;32m     24\u001b[0m         \u001b[0mEntropyAttr\u001b[0m \u001b[1;33m=\u001b[0m \u001b[1;33m{\u001b[0m\u001b[1;33m}\u001b[0m\u001b[1;33m\u001b[0m\u001b[0m\n\u001b[0;32m     25\u001b[0m         \u001b[0mAttPosNeg\u001b[0m \u001b[1;33m=\u001b[0m \u001b[1;33m{\u001b[0m\u001b[1;33m}\u001b[0m\u001b[1;33m\u001b[0m\u001b[0m\n\u001b[1;32m---> 26\u001b[1;33m         \u001b[0mClassEntropy\u001b[0m \u001b[1;33m=\u001b[0m \u001b[0minfoGain\u001b[0m\u001b[1;33m(\u001b[0m\u001b[0mcountC\u001b[0m\u001b[1;33m[\u001b[0m\u001b[1;34m'Yes'\u001b[0m\u001b[1;33m]\u001b[0m\u001b[1;33m,\u001b[0m\u001b[0mcountC\u001b[0m\u001b[1;33m[\u001b[0m\u001b[1;34m'No'\u001b[0m\u001b[1;33m]\u001b[0m\u001b[1;33m)\u001b[0m\u001b[1;33m\u001b[0m\u001b[0m\n\u001b[0m\u001b[0;32m     27\u001b[0m \u001b[1;31m#         print(\"Class Entropy : \",ClassEntropy)\u001b[0m\u001b[1;33m\u001b[0m\u001b[1;33m\u001b[0m\u001b[0m\n\u001b[0;32m     28\u001b[0m         \u001b[1;32mfor\u001b[0m \u001b[0matt\u001b[0m \u001b[1;32min\u001b[0m \u001b[0mAttrCount\u001b[0m\u001b[1;33m:\u001b[0m\u001b[1;33m\u001b[0m\u001b[0m\n",
      "\u001b[1;31mKeyError\u001b[0m: 'Yes'"
     ]
    }
   ],
   "source": [
    "main()"
   ]
  },
  {
   "cell_type": "code",
   "execution_count": null,
   "metadata": {
    "collapsed": true
   },
   "outputs": [],
   "source": []
  },
  {
   "cell_type": "code",
   "execution_count": null,
   "metadata": {
    "collapsed": true
   },
   "outputs": [],
   "source": []
  }
 ],
 "metadata": {
  "kernelspec": {
   "display_name": "Python 3",
   "language": "python",
   "name": "python3"
  },
  "language_info": {
   "codemirror_mode": {
    "name": "ipython",
    "version": 3
   },
   "file_extension": ".py",
   "mimetype": "text/x-python",
   "name": "python",
   "nbconvert_exporter": "python",
   "pygments_lexer": "ipython3",
   "version": "3.6.3"
  }
 },
 "nbformat": 4,
 "nbformat_minor": 2
}
