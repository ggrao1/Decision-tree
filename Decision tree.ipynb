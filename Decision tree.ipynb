{
 "cells": [
  {
   "cell_type": "code",
   "execution_count": 1,
   "metadata": {
    "collapsed": true
   },
   "outputs": [],
   "source": [
    "def infoGain(P,N):\n",
    "    import math\n",
    "    p = P/(P+N)\n",
    "    n = N/(P+N)\n",
    "    if p==0:\n",
    "        p=1\n",
    "    if n==0:\n",
    "        n=1\n",
    "    return -p*math.log2(p)-n*math.log2(n)"
   ]
  },
  {
   "cell_type": "code",
   "execution_count": 2,
   "metadata": {
    "collapsed": true
   },
   "outputs": [],
   "source": [
    "def getpath(nested_dict, value, prepath=0):\n",
    "    for k, v in nested_dict.items():\n",
    "        path = prepath\n",
    "        if v == value:\n",
    "            return path+1\n",
    "        elif hasattr(v, 'items'): \n",
    "            p = getpath(v, value, path) \n",
    "            if p is not None:\n",
    "                return p\n",
    "    return prepath"
   ]
  },
  {
   "cell_type": "code",
   "execution_count": 3,
   "metadata": {
    "collapsed": true
   },
   "outputs": [],
   "source": [
    "def finditem(obj, key):\n",
    "    for k, v in obj.items():\n",
    "        if v == key:\n",
    "            return k\n",
    "        elif hasattr(v, 'items'): \n",
    "            p = finditem(v, key) \n",
    "            if p is not None:\n",
    "                return p"
   ]
  },
  {
   "cell_type": "code",
   "execution_count": 4,
   "metadata": {
    "collapsed": true
   },
   "outputs": [],
   "source": [
    "def insertNode(tree,Node,AttPosNeg):\n",
    "    for k, v in tree.items():\n",
    "        if v == 'None':\n",
    "            NV = {}\n",
    "            for i in AttPosNeg:\n",
    "                for j in AttPosNeg[i]:\n",
    "                    NV[j]='None'\n",
    "                    if AttPosNeg[i][j] == 0:\n",
    "                        NV[j]='No'\n",
    "                    if AttPosNeg[i][j] == 0:\n",
    "                        NV[j]='Yes'\n",
    "            tree[k]={Node:NV}\n",
    "        elif hasattr(v, 'items'):\n",
    "            p = insertNode(v, Node,AttPosNeg)\n",
    "            if p is not 'None':\n",
    "                return p\n",
    "    return tree"
   ]
  },
  {
   "cell_type": "code",
   "execution_count": 5,
   "metadata": {
    "collapsed": true
   },
   "outputs": [],
   "source": [
    "def insertTree(tree,Node,AttPosNeg):\n",
    "    for k, v in tree.items():\n",
    "        if v == 'None':\n",
    "            tree[k]={k:NV}\n",
    "        elif hasattr(v, 'items'):\n",
    "            p = insertNode(v, Node,AttPosNeg)\n",
    "            if p is not 'None':\n",
    "                return p\n",
    "    return tree"
   ]
  },
  {
   "cell_type": "code",
   "execution_count": 6,
   "metadata": {
    "collapsed": true
   },
   "outputs": [],
   "source": [
    "def countConcept(data,attr,val):\n",
    "    from collections import Counter\n",
    "    cnt=Counter(x for x in data[attr])\n",
    "    return cnt[val]"
   ]
  },
  {
   "cell_type": "code",
   "execution_count": 7,
   "metadata": {
    "collapsed": true
   },
   "outputs": [],
   "source": [
    "def countAttr(data,attr,val,concept,cVal):\n",
    "    count={}\n",
    "    C = data[concept]\n",
    "    A = data[attr]\n",
    "    for a in data.index:\n",
    "        for v in val:\n",
    "            if v not in count:\n",
    "                count[v] = 0\n",
    "            if(A[a]==v and C[a]==cVal):\n",
    "                if v not in count:\n",
    "                    count[v]=1\n",
    "                else:\n",
    "                    count[v]=count[v]+1\n",
    "    return count"
   ]
  },
  {
   "cell_type": "code",
   "execution_count": 8,
   "metadata": {
    "collapsed": true
   },
   "outputs": [],
   "source": [
    "def findItemsList(obj, key,prepath=[]):\n",
    "    for k, v in obj.items():\n",
    "        path = prepath\n",
    "        if v == key:\n",
    "            path.append(k)\n",
    "        elif hasattr(v, 'items'): \n",
    "            p = findItemsList(v, key, path) \n",
    "            if p is not []:\n",
    "                return p\n",
    "    return prepath"
   ]
  },
  {
   "cell_type": "code",
   "execution_count": 9,
   "metadata": {
    "collapsed": true
   },
   "outputs": [],
   "source": [
    "def getNextData(data,Node,d):\n",
    "    iData = (data[Node] == d)\n",
    "    nD = data[iData]\n",
    "    nD = nD.drop(Node,axis=1)\n",
    "    return nD"
   ]
  },
  {
   "cell_type": "code",
   "execution_count": 28,
   "metadata": {
    "collapsed": true
   },
   "outputs": [],
   "source": [
    "def getTree(data,conceptVals,tree):\n",
    "    concept=str(list(data)[-1])\n",
    "    AttributeList=list(data)[:-1]\n",
    "    Total=data.shape[0]\n",
    "    pathToNone = getpath(tree,'None')\n",
    "    if(pathToNone>0 and Total>0):\n",
    "        Attr = {}\n",
    "        for a in AttributeList:\n",
    "            Attr[a] = list(set(data[a]))\n",
    "        \n",
    "        AttrCount = {}\n",
    "        countC={}\n",
    "        for val in Attr:\n",
    "            AttrCount[val] = {}\n",
    "            for cVal in conceptVals:\n",
    "                countC[cVal] = 0\n",
    "                countC[cVal] = countConcept(data,concept,cVal)\n",
    "            for cVal in conceptVals:\n",
    "                AttrCount[val][cVal] = countAttr(data,val,Attr[val],concept,cVal)\n",
    "#         print(AttrCount)\n",
    "#         print(countC)\n",
    "        EntropyAttr = {}\n",
    "        AttPosNeg = {}\n",
    "        ClassEntropy = infoGain(countC['Yes'],countC['No'])\n",
    "#         print(\"Class Entropy : \",ClassEntropy)\n",
    "        if ClassEntropy == 0:\n",
    "            return tree\n",
    "        for att in AttrCount:\n",
    "            InfoGain = {}\n",
    "            ap = {}\n",
    "            an = {}\n",
    "            for c in conceptVals:\n",
    "                for val in AttrCount[att][c]:\n",
    "                    if c == 'No':\n",
    "                        an[val] = AttrCount[att][c][val]\n",
    "                    if c == 'Yes':\n",
    "                        ap[val] = AttrCount[att][c][val]\n",
    "            AttPosNeg[att]={}\n",
    "            AttPosNeg[att] = {'Yes':ap,'No':an}\n",
    "            TotalInfo = {}\n",
    "            for val in AttrCount[att][c]:\n",
    "                TotalInfo[val] = ap[val]+an[val]\n",
    "                if ap[val]==0 or an[val]==0:\n",
    "                    InfoGain[val]=0\n",
    "                else:\n",
    "                    InfoGain[val] = infoGain(ap[val],an[val])\n",
    "#             print(\"Information Gain : \",InfoGain)\n",
    "            for val in InfoGain:\n",
    "                if att not in EntropyAttr:\n",
    "                    EntropyAttr[att] = ( TotalInfo[val] / Total ) * InfoGain[val]\n",
    "                else:\n",
    "                    EntropyAttr[att] = EntropyAttr[att] + ( TotalInfo[val] / Total ) * InfoGain[val]\n",
    "#         print(\"Attribute Entropy : \",EntropyAttr)\n",
    "        Gain = {}\n",
    "        for g in EntropyAttr:\n",
    "            if g not in Gain:\n",
    "                Gain[g] = ClassEntropy - EntropyAttr[g]\n",
    "#         print(\"Gain : \",Gain)\n",
    "        Node = max(Gain,key=Gain.get)\n",
    "        print(\"Next root : \",Node)\n",
    "        tree = insertNode(tree,Node,AttPosNeg[Node])\n",
    "        print(tree)\n",
    "        nDL = list(set(findItemsList(tree,'None')))\n",
    "        for d in nDL:\n",
    "            newData = getNextData(data,Node,d)\n",
    "            tree1 = getTree(newData,conceptVals,tree)\n",
    "            tree = insertTree(tree,tree1,AttPosNeg[Node]) \n",
    "        return tree\n",
    "    else:\n",
    "        return tree"
   ]
  },
  {
   "cell_type": "code",
   "execution_count": 29,
   "metadata": {
    "collapsed": true
   },
   "outputs": [],
   "source": [
    "def main():\n",
    "    import pandas as pd\n",
    "    from pandas import DataFrame \n",
    "    from collections import Counter\n",
    "    data = DataFrame.from_csv('play.csv')\n",
    "    concept=str(list(data)[-1])\n",
    "    conceptVals = list(set(data[concept]))\n",
    "    tree = getTree(data,conceptVals,{'root':'None'})\n",
    "    print(tree)"
   ]
  },
  {
   "cell_type": "code",
   "execution_count": 30,
   "metadata": {
    "scrolled": true
   },
   "outputs": [
    {
     "name": "stdout",
     "output_type": "stream",
     "text": [
      "Next root :  Outlook\n",
      "{'root': {'Outlook': {'Rain': 'None', 'Overcast': 'Yes', 'Sunny': 'None'}}}\n"
     ]
    },
    {
     "ename": "TypeError",
     "evalue": "unhashable type: 'dict'",
     "output_type": "error",
     "traceback": [
      "\u001b[1;31m---------------------------------------------------------------------------\u001b[0m",
      "\u001b[1;31mTypeError\u001b[0m                                 Traceback (most recent call last)",
      "\u001b[1;32m<ipython-input-30-58ca95c5b364>\u001b[0m in \u001b[0;36m<module>\u001b[1;34m()\u001b[0m\n\u001b[1;32m----> 1\u001b[1;33m \u001b[0mmain\u001b[0m\u001b[1;33m(\u001b[0m\u001b[1;33m)\u001b[0m\u001b[1;33m\u001b[0m\u001b[0m\n\u001b[0m",
      "\u001b[1;32m<ipython-input-29-921451c83a09>\u001b[0m in \u001b[0;36mmain\u001b[1;34m()\u001b[0m\n\u001b[0;32m      6\u001b[0m     \u001b[0mconcept\u001b[0m\u001b[1;33m=\u001b[0m\u001b[0mstr\u001b[0m\u001b[1;33m(\u001b[0m\u001b[0mlist\u001b[0m\u001b[1;33m(\u001b[0m\u001b[0mdata\u001b[0m\u001b[1;33m)\u001b[0m\u001b[1;33m[\u001b[0m\u001b[1;33m-\u001b[0m\u001b[1;36m1\u001b[0m\u001b[1;33m]\u001b[0m\u001b[1;33m)\u001b[0m\u001b[1;33m\u001b[0m\u001b[0m\n\u001b[0;32m      7\u001b[0m     \u001b[0mconceptVals\u001b[0m \u001b[1;33m=\u001b[0m \u001b[0mlist\u001b[0m\u001b[1;33m(\u001b[0m\u001b[0mset\u001b[0m\u001b[1;33m(\u001b[0m\u001b[0mdata\u001b[0m\u001b[1;33m[\u001b[0m\u001b[0mconcept\u001b[0m\u001b[1;33m]\u001b[0m\u001b[1;33m)\u001b[0m\u001b[1;33m)\u001b[0m\u001b[1;33m\u001b[0m\u001b[0m\n\u001b[1;32m----> 8\u001b[1;33m     \u001b[0mtree\u001b[0m \u001b[1;33m=\u001b[0m \u001b[0mgetTree\u001b[0m\u001b[1;33m(\u001b[0m\u001b[0mdata\u001b[0m\u001b[1;33m,\u001b[0m\u001b[0mconceptVals\u001b[0m\u001b[1;33m,\u001b[0m\u001b[1;33m{\u001b[0m\u001b[1;34m'root'\u001b[0m\u001b[1;33m:\u001b[0m\u001b[1;34m'None'\u001b[0m\u001b[1;33m}\u001b[0m\u001b[1;33m)\u001b[0m\u001b[1;33m\u001b[0m\u001b[0m\n\u001b[0m\u001b[0;32m      9\u001b[0m     \u001b[0mprint\u001b[0m\u001b[1;33m(\u001b[0m\u001b[0mtree\u001b[0m\u001b[1;33m)\u001b[0m\u001b[1;33m\u001b[0m\u001b[0m\n",
      "\u001b[1;32m<ipython-input-28-adbc44d7c1dd>\u001b[0m in \u001b[0;36mgetTree\u001b[1;34m(data, conceptVals, tree)\u001b[0m\n\u001b[0;32m     65\u001b[0m             \u001b[0mnewData\u001b[0m \u001b[1;33m=\u001b[0m \u001b[0mgetNextData\u001b[0m\u001b[1;33m(\u001b[0m\u001b[0mdata\u001b[0m\u001b[1;33m,\u001b[0m\u001b[0mNode\u001b[0m\u001b[1;33m,\u001b[0m\u001b[0md\u001b[0m\u001b[1;33m)\u001b[0m\u001b[1;33m\u001b[0m\u001b[0m\n\u001b[0;32m     66\u001b[0m             \u001b[0mtree1\u001b[0m \u001b[1;33m=\u001b[0m \u001b[0mgetTree\u001b[0m\u001b[1;33m(\u001b[0m\u001b[0mnewData\u001b[0m\u001b[1;33m,\u001b[0m\u001b[0mconceptVals\u001b[0m\u001b[1;33m,\u001b[0m\u001b[0mtree\u001b[0m\u001b[1;33m)\u001b[0m\u001b[1;33m\u001b[0m\u001b[0m\n\u001b[1;32m---> 67\u001b[1;33m             \u001b[0mtree\u001b[0m \u001b[1;33m=\u001b[0m \u001b[0minsertTree\u001b[0m\u001b[1;33m(\u001b[0m\u001b[0mtree\u001b[0m\u001b[1;33m,\u001b[0m\u001b[0mtree1\u001b[0m\u001b[1;33m,\u001b[0m\u001b[0mAttPosNeg\u001b[0m\u001b[1;33m[\u001b[0m\u001b[0mNode\u001b[0m\u001b[1;33m]\u001b[0m\u001b[1;33m)\u001b[0m\u001b[1;33m\u001b[0m\u001b[0m\n\u001b[0m\u001b[0;32m     68\u001b[0m         \u001b[1;32mreturn\u001b[0m \u001b[0mtree\u001b[0m\u001b[1;33m\u001b[0m\u001b[0m\n\u001b[0;32m     69\u001b[0m     \u001b[1;32melse\u001b[0m\u001b[1;33m:\u001b[0m\u001b[1;33m\u001b[0m\u001b[0m\n",
      "\u001b[1;32m<ipython-input-5-bf10f97c5725>\u001b[0m in \u001b[0;36minsertTree\u001b[1;34m(tree, Node, AttPosNeg)\u001b[0m\n\u001b[0;32m      4\u001b[0m             \u001b[0mtree\u001b[0m\u001b[1;33m[\u001b[0m\u001b[0mk\u001b[0m\u001b[1;33m]\u001b[0m\u001b[1;33m=\u001b[0m\u001b[1;33m{\u001b[0m\u001b[0mk\u001b[0m\u001b[1;33m:\u001b[0m\u001b[0mNV\u001b[0m\u001b[1;33m}\u001b[0m\u001b[1;33m\u001b[0m\u001b[0m\n\u001b[0;32m      5\u001b[0m         \u001b[1;32melif\u001b[0m \u001b[0mhasattr\u001b[0m\u001b[1;33m(\u001b[0m\u001b[0mv\u001b[0m\u001b[1;33m,\u001b[0m \u001b[1;34m'items'\u001b[0m\u001b[1;33m)\u001b[0m\u001b[1;33m:\u001b[0m\u001b[1;33m\u001b[0m\u001b[0m\n\u001b[1;32m----> 6\u001b[1;33m             \u001b[0mp\u001b[0m \u001b[1;33m=\u001b[0m \u001b[0minsertNode\u001b[0m\u001b[1;33m(\u001b[0m\u001b[0mv\u001b[0m\u001b[1;33m,\u001b[0m \u001b[0mNode\u001b[0m\u001b[1;33m,\u001b[0m\u001b[0mAttPosNeg\u001b[0m\u001b[1;33m)\u001b[0m\u001b[1;33m\u001b[0m\u001b[0m\n\u001b[0m\u001b[0;32m      7\u001b[0m             \u001b[1;32mif\u001b[0m \u001b[0mp\u001b[0m \u001b[1;32mis\u001b[0m \u001b[1;32mnot\u001b[0m \u001b[1;34m'None'\u001b[0m\u001b[1;33m:\u001b[0m\u001b[1;33m\u001b[0m\u001b[0m\n\u001b[0;32m      8\u001b[0m                 \u001b[1;32mreturn\u001b[0m \u001b[0mp\u001b[0m\u001b[1;33m\u001b[0m\u001b[0m\n",
      "\u001b[1;32m<ipython-input-4-b4603d32bc4b>\u001b[0m in \u001b[0;36minsertNode\u001b[1;34m(tree, Node, AttPosNeg)\u001b[0m\n\u001b[0;32m     12\u001b[0m             \u001b[0mtree\u001b[0m\u001b[1;33m[\u001b[0m\u001b[0mk\u001b[0m\u001b[1;33m]\u001b[0m\u001b[1;33m=\u001b[0m\u001b[1;33m{\u001b[0m\u001b[0mNode\u001b[0m\u001b[1;33m:\u001b[0m\u001b[0mNV\u001b[0m\u001b[1;33m}\u001b[0m\u001b[1;33m\u001b[0m\u001b[0m\n\u001b[0;32m     13\u001b[0m         \u001b[1;32melif\u001b[0m \u001b[0mhasattr\u001b[0m\u001b[1;33m(\u001b[0m\u001b[0mv\u001b[0m\u001b[1;33m,\u001b[0m \u001b[1;34m'items'\u001b[0m\u001b[1;33m)\u001b[0m\u001b[1;33m:\u001b[0m\u001b[1;33m\u001b[0m\u001b[0m\n\u001b[1;32m---> 14\u001b[1;33m             \u001b[0mp\u001b[0m \u001b[1;33m=\u001b[0m \u001b[0minsertNode\u001b[0m\u001b[1;33m(\u001b[0m\u001b[0mv\u001b[0m\u001b[1;33m,\u001b[0m \u001b[0mNode\u001b[0m\u001b[1;33m,\u001b[0m\u001b[0mAttPosNeg\u001b[0m\u001b[1;33m)\u001b[0m\u001b[1;33m\u001b[0m\u001b[0m\n\u001b[0m\u001b[0;32m     15\u001b[0m             \u001b[1;32mif\u001b[0m \u001b[0mp\u001b[0m \u001b[1;32mis\u001b[0m \u001b[1;32mnot\u001b[0m \u001b[1;34m'None'\u001b[0m\u001b[1;33m:\u001b[0m\u001b[1;33m\u001b[0m\u001b[0m\n\u001b[0;32m     16\u001b[0m                 \u001b[1;32mreturn\u001b[0m \u001b[0mp\u001b[0m\u001b[1;33m\u001b[0m\u001b[0m\n",
      "\u001b[1;32m<ipython-input-4-b4603d32bc4b>\u001b[0m in \u001b[0;36minsertNode\u001b[1;34m(tree, Node, AttPosNeg)\u001b[0m\n\u001b[0;32m     10\u001b[0m                     \u001b[1;32mif\u001b[0m \u001b[0mAttPosNeg\u001b[0m\u001b[1;33m[\u001b[0m\u001b[0mi\u001b[0m\u001b[1;33m]\u001b[0m\u001b[1;33m[\u001b[0m\u001b[0mj\u001b[0m\u001b[1;33m]\u001b[0m \u001b[1;33m==\u001b[0m \u001b[1;36m0\u001b[0m\u001b[1;33m:\u001b[0m\u001b[1;33m\u001b[0m\u001b[0m\n\u001b[0;32m     11\u001b[0m                         \u001b[0mNV\u001b[0m\u001b[1;33m[\u001b[0m\u001b[0mj\u001b[0m\u001b[1;33m]\u001b[0m\u001b[1;33m=\u001b[0m\u001b[1;34m'Yes'\u001b[0m\u001b[1;33m\u001b[0m\u001b[0m\n\u001b[1;32m---> 12\u001b[1;33m             \u001b[0mtree\u001b[0m\u001b[1;33m[\u001b[0m\u001b[0mk\u001b[0m\u001b[1;33m]\u001b[0m\u001b[1;33m=\u001b[0m\u001b[1;33m{\u001b[0m\u001b[0mNode\u001b[0m\u001b[1;33m:\u001b[0m\u001b[0mNV\u001b[0m\u001b[1;33m}\u001b[0m\u001b[1;33m\u001b[0m\u001b[0m\n\u001b[0m\u001b[0;32m     13\u001b[0m         \u001b[1;32melif\u001b[0m \u001b[0mhasattr\u001b[0m\u001b[1;33m(\u001b[0m\u001b[0mv\u001b[0m\u001b[1;33m,\u001b[0m \u001b[1;34m'items'\u001b[0m\u001b[1;33m)\u001b[0m\u001b[1;33m:\u001b[0m\u001b[1;33m\u001b[0m\u001b[0m\n\u001b[0;32m     14\u001b[0m             \u001b[0mp\u001b[0m \u001b[1;33m=\u001b[0m \u001b[0minsertNode\u001b[0m\u001b[1;33m(\u001b[0m\u001b[0mv\u001b[0m\u001b[1;33m,\u001b[0m \u001b[0mNode\u001b[0m\u001b[1;33m,\u001b[0m\u001b[0mAttPosNeg\u001b[0m\u001b[1;33m)\u001b[0m\u001b[1;33m\u001b[0m\u001b[0m\n",
      "\u001b[1;31mTypeError\u001b[0m: unhashable type: 'dict'"
     ]
    }
   ],
   "source": [
    "main()"
   ]
  },
  {
   "cell_type": "code",
   "execution_count": null,
   "metadata": {
    "collapsed": true
   },
   "outputs": [],
   "source": []
  }
 ],
 "metadata": {
  "kernelspec": {
   "display_name": "Python 3",
   "language": "python",
   "name": "python3"
  },
  "language_info": {
   "codemirror_mode": {
    "name": "ipython",
    "version": 3
   },
   "file_extension": ".py",
   "mimetype": "text/x-python",
   "name": "python",
   "nbconvert_exporter": "python",
   "pygments_lexer": "ipython3",
   "version": "3.6.3"
  }
 },
 "nbformat": 4,
 "nbformat_minor": 2
}
