{
 "cells": [
  {
   "cell_type": "code",
   "execution_count": 102,
   "metadata": {
    "collapsed": true
   },
   "outputs": [],
   "source": [
    "def infoGain(P,N):\n",
    "    import math\n",
    "    return -P/(P+N)*math.log2(P/(P+N))-N/(P+N)*math.log2(N/(P+N))"
   ]
  },
  {
   "cell_type": "code",
   "execution_count": 103,
   "metadata": {
    "collapsed": true
   },
   "outputs": [],
   "source": [
    "def getpath(nested_dict, value, prepath=0):\n",
    "    for k, v in nested_dict.items():\n",
    "        path = prepath\n",
    "        if v == value: \n",
    "            return path+1\n",
    "        elif hasattr(v, 'items'): \n",
    "            p = getpath(v, value, path) \n",
    "            if p is not None:\n",
    "                return p"
   ]
  },
  {
   "cell_type": "code",
   "execution_count": 104,
   "metadata": {
    "collapsed": true
   },
   "outputs": [],
   "source": [
    "def finditem(obj, key):\n",
    "    if key in obj: return key\n",
    "    for k, v in obj.items():\n",
    "        if isinstance(v,dict):\n",
    "            item = _finditem(v, key)\n",
    "            if item is not None:\n",
    "                return item"
   ]
  },
  {
   "cell_type": "code",
   "execution_count": 114,
   "metadata": {
    "collapsed": true
   },
   "outputs": [],
   "source": [
    "def insertNode(tree,Node,AttPosNeg):\n",
    "\n",
    "    for k, v in tree.items():\n",
    "        if v == 'None':\n",
    "            NV = {}\n",
    "            for i in AttPosNeg:\n",
    "                for j in AttPosNeg[i]:\n",
    "                    NV[j]='None'\n",
    "                    if AttPosNeg[i][j] == 0:\n",
    "                        NV[j]='No'\n",
    "                    if AttPosNeg[i][j] == 0:\n",
    "                        NV[j]='Yes'\n",
    "            tree[k]={Node:NV}\n",
    "        elif hasattr(v, 'items'):\n",
    "            p = insertNode(v, value)\n",
    "            if p is not 'None':\n",
    "                return p\n",
    "    return tree"
   ]
  },
  {
   "cell_type": "code",
   "execution_count": 115,
   "metadata": {
    "collapsed": true
   },
   "outputs": [],
   "source": [
    "def countConcept(data,attr,val):\n",
    "    from collections import Counter\n",
    "    cnt=Counter(x for x in data[attr])\n",
    "    return cnt[val]"
   ]
  },
  {
   "cell_type": "code",
   "execution_count": 116,
   "metadata": {
    "collapsed": true
   },
   "outputs": [],
   "source": [
    "def countAttr(data,attr,val,concept,cVal):\n",
    "    count={}\n",
    "    C = data[concept]\n",
    "    A = data[attr]\n",
    "    for a in range(len(data[attr])):\n",
    "        for v in val:\n",
    "            if v not in count:\n",
    "                count[v] = 0\n",
    "            if(A[a]==v and C[a]==cVal):\n",
    "                if v not in count:\n",
    "                    count[v]=1\n",
    "                else:\n",
    "                    count[v]=count[v]+1\n",
    "    return count"
   ]
  },
  {
   "cell_type": "code",
   "execution_count": null,
   "metadata": {
    "collapsed": true
   },
   "outputs": [],
   "source": [
    "def getNextData(data,AttPosNeg,Node,tree):\n",
    "    for nDi in AttPosNeg[Node]['Yes']:\n",
    "        if finditem(tree, 'None')==nDi:\n",
    "            iL = []\n",
    "            iData = data[Node]\n",
    "            for i in iData:\n",
    "                if i == nDi:\n",
    "                    pass\n",
    "    pass #to be continued.."
   ]
  },
  {
   "cell_type": "code",
   "execution_count": 120,
   "metadata": {},
   "outputs": [],
   "source": [
    "def getTree(data,AttributeList,concept,tree):\n",
    "    flag = True\n",
    "    Attr = {}\n",
    "    Total=data.shape[0]\n",
    "    for a in AttributeList:\n",
    "        Attr[a] = list(set(data[a]))\n",
    "        \n",
    "    conceptVals = list(set(data[concept]))\n",
    "    AttrCount = {}\n",
    "    countC={}\n",
    "    \n",
    "    pathToNone = getpath(tree,'None')\n",
    "#     print(pathToNone)\n",
    "    if(pathToNone>0):\n",
    "        for val in Attr:\n",
    "            AttrCount[val] = {}\n",
    "            for cVal in conceptVals:\n",
    "                countC[cVal] = countConcept(data,concept,cVal)\n",
    "            for cVal in conceptVals:\n",
    "                AttrCount[val][cVal] = countAttr(data,val,Attr[val],concept,cVal)\n",
    "        print(AttrCount)\n",
    "        print(countC)\n",
    "        EntropyAttr = {}\n",
    "        AttPosNeg = {}\n",
    "        ClassEntropy = infoGain(countC['Yes'],countC['No'])\n",
    "        print(\"Class Entropy : \",ClassEntropy)\n",
    "        for att in AttrCount:\n",
    "            InfoGain = {}\n",
    "            ap = {}\n",
    "            an = {}\n",
    "            for c in conceptVals:\n",
    "                for val in AttrCount[att][c]:\n",
    "                    if c == 'No':\n",
    "                        an[val] = AttrCount[att][c][val]\n",
    "                    if c == 'Yes':\n",
    "                        ap[val] = AttrCount[att][c][val]\n",
    "            AttPosNeg[att]={}\n",
    "#             AttPosNeg[att][val] = {'Yes':ap,'No':an}\n",
    "            TotalInfo = {}\n",
    "            AttPosNeg[att] = {'Yes':ap,'No':an}\n",
    "            for val in AttrCount[att][c]:\n",
    "                TotalInfo[val] = ap[val]+an[val]\n",
    "                if ap[val]==0 or an[val]==0:\n",
    "                    InfoGain[val]=0\n",
    "                else:\n",
    "                    InfoGain[val] = infoGain(ap[val],an[val])\n",
    "            print(\"Information Gain : \",InfoGain)\n",
    "            for val in InfoGain:\n",
    "                if att not in EntropyAttr:\n",
    "                    EntropyAttr[att] = ( TotalInfo[val] / Total ) * InfoGain[val]\n",
    "                else:\n",
    "                    EntropyAttr[att] = EntropyAttr[att] + ( TotalInfo[val] / Total ) * InfoGain[val]\n",
    "        print(\"Attribute Entropy : \",EntropyAttr)\n",
    "        Gain = {}\n",
    "        for g in EntropyAttr:\n",
    "            if g not in Gain:\n",
    "                Gain[g] = ClassEntropy - EntropyAttr[g]\n",
    "        print(\"Gain : \",Gain)\n",
    "        Node = max(Gain,key=Gain.get)\n",
    "        print(\"Next root : \",Node)\n",
    "        tree = insertNode(tree,Node,AttPosNeg[Node])\n",
    "        print(tree)\n",
    "        for d in range(pathToNone):\n",
    "            newData = getNextData(data,AttPosNeg,Node,tree)\n",
    "            tree = getTree(newData,AttributeList,concept,tree)\n",
    "    else:\n",
    "        return tree"
   ]
  },
  {
   "cell_type": "code",
   "execution_count": 121,
   "metadata": {
    "collapsed": true
   },
   "outputs": [],
   "source": [
    "def main():\n",
    "    import pandas as pd\n",
    "    from pandas import DataFrame \n",
    "    from collections import Counter\n",
    "    data = DataFrame.from_csv('play.csv')\n",
    "    AttributeList=list(data)[:-1]\n",
    "    num_of_attributes=len(AttributeList)\n",
    "    concept=str(list(data)[-1])\n",
    "    tree = getTree(data,AttributeList,concept,{'root':'None'})"
   ]
  },
  {
   "cell_type": "code",
   "execution_count": 122,
   "metadata": {
    "scrolled": false
   },
   "outputs": [
    {
     "name": "stdout",
     "output_type": "stream",
     "text": [
      "{'Outlook': {'No': {'Sunny': 3, 'Overcast': 0, 'Rain': 2}, 'Yes': {'Sunny': 2, 'Overcast': 4, 'Rain': 3}}, 'Temperature': {'No': {'Cool': 1, 'Mild': 2, 'Hot': 2}, 'Yes': {'Cool': 3, 'Mild': 4, 'Hot': 2}}, 'Humidity': {'No': {'High': 4, 'Normal': 1}, 'Yes': {'High': 3, 'Normal': 6}}, 'Wind': {'No': {'Weak': 2, 'Strong': 3}, 'Yes': {'Weak': 6, 'Strong': 3}}}\n",
      "{'No': 5, 'Yes': 9}\n",
      "Class Entropy :  0.9402859586706311\n",
      "Information Gain :  {'Sunny': 0.9709505944546686, 'Overcast': 0, 'Rain': 0.9709505944546686}\n",
      "Information Gain :  {'Cool': 0.8112781244591328, 'Mild': 0.9182958340544896, 'Hot': 1.0}\n",
      "Information Gain :  {'High': 0.9852281360342516, 'Normal': 0.5916727785823275}\n",
      "Information Gain :  {'Weak': 0.8112781244591328, 'Strong': 1.0}\n",
      "Attribute Entropy :  {'Outlook': 0.6935361388961918, 'Temperature': 0.9110633930116763, 'Humidity': 0.7884504573082896, 'Wind': 0.8921589282623617}\n",
      "Gain :  {'Outlook': 0.24674981977443933, 'Temperature': 0.02922256565895487, 'Humidity': 0.15183550136234159, 'Wind': 0.04812703040826949}\n",
      "Next root :  Outlook\n",
      "{'root': {'Outlook': {'Sunny': 'None', 'Overcast': 'Yes', 'Rain': 'None'}}}\n"
     ]
    }
   ],
   "source": [
    "main()"
   ]
  },
  {
   "cell_type": "code",
   "execution_count": null,
   "metadata": {
    "collapsed": true
   },
   "outputs": [],
   "source": []
  },
  {
   "cell_type": "code",
   "execution_count": null,
   "metadata": {
    "collapsed": true
   },
   "outputs": [],
   "source": []
  }
 ],
 "metadata": {
  "kernelspec": {
   "display_name": "Python 3",
   "language": "python",
   "name": "python3"
  },
  "language_info": {
   "codemirror_mode": {
    "name": "ipython",
    "version": 3
   },
   "file_extension": ".py",
   "mimetype": "text/x-python",
   "name": "python",
   "nbconvert_exporter": "python",
   "pygments_lexer": "ipython3",
   "version": "3.6.3"
  }
 },
 "nbformat": 4,
 "nbformat_minor": 2
}
